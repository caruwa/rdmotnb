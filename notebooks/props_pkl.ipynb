{
 "cells": [
  {
   "cell_type": "code",
   "execution_count": null,
   "id": "668e4cd3-70c7-4901-a255-8f7a3dde378c",
   "metadata": {},
   "outputs": [],
   "source": [
    "import pandas as pd\n",
    "import plotly.express as px\n",
    "import plotly.io as pio\n",
    "from plotly.offline import init_notebook_mode\n",
    "\n",
    "pio.renderers.default = \"notebook_connected\"\n",
    "init_notebook_mode(connected=False)\n"
   ]
  },
  {
   "cell_type": "code",
   "execution_count": null,
   "id": "d2c9c627-1200-4370-bf87-3bd73b44e7e2",
   "metadata": {},
   "outputs": [],
   "source": [
    "proposal_html_file = \"proposals.html\"\n",
    "proposal_pkl_file = \"../proposals.pkl\"\n",
    "df = pd.read_pickle(proposal_pkl_file)\n",
    "print(df.shape)\n",
    "print(df.columns)\n",
    "print(df[\"intressent\"].unique())\n",
    "df_sou = df.loc[df['intressent'] == \"SoU\"]\n",
    "df_sou[\"prop_id\"] = df_sou[\"mot_rm\"]+\":\"+df_sou[\"mot_nummer\"]+\":\"+df_sou[\"nummer\"]\n",
    "print(df_sou.shape)\n",
    "print(df_sou[\"intressent\"].unique())"
   ]
  },
  {
   "cell_type": "code",
   "execution_count": null,
   "id": "cfff10e6-fb90-49f2-8b90-f74cd1034ec5",
   "metadata": {},
   "outputs": [],
   "source": []
  },
  {
   "cell_type": "code",
   "execution_count": null,
   "id": "04edcd4a-0c1d-4d52-959b-991e6c688f1b",
   "metadata": {},
   "outputs": [],
   "source": [
    "fig = px.histogram(df_sou, histfunc=\"count\", x=\"intressent\", y=\"prop_id\", color=\"mot_organ\", barmode=\"group\", facet_row=\"mot_rm\", facet_col=\"mot_intressent_partibet\", height=600)\n",
    "fig.for_each_annotation(lambda a: a.update(text=a.text.replace(\"mot_rm=\", \"\")))\n",
    "fig.for_each_annotation(lambda a: a.update(text=a.text.replace(\"mot_intressent_partibet=\", \"\")))\n",
    "fig.show()\n"
   ]
  },
  {
   "cell_type": "code",
   "execution_count": null,
   "id": "409985a8-5b2f-44cd-97f9-5bbc63b6f32f",
   "metadata": {},
   "outputs": [],
   "source": [
    "df_sou.head()"
   ]
  }
 ],
 "metadata": {
  "kernelspec": {
   "display_name": "Python 3 (ipykernel)",
   "language": "python",
   "name": "python3"
  },
  "language_info": {
   "codemirror_mode": {
    "name": "ipython",
    "version": 3
   },
   "file_extension": ".py",
   "mimetype": "text/x-python",
   "name": "python",
   "nbconvert_exporter": "python",
   "pygments_lexer": "ipython3",
   "version": "3.10.12"
  }
 },
 "nbformat": 4,
 "nbformat_minor": 5
}
